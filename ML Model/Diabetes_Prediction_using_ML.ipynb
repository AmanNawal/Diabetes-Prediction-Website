{
  "cells": [
    {
      "cell_type": "markdown",
      "metadata": {
        "id": "NjTin5qzS5UF"
      },
      "source": [
        "Importing the Dependencies "
      ]
    },
    {
      "cell_type": "code",
      "execution_count": 1,
      "metadata": {
        "id": "EfHjdiUfSs3e"
      },
      "outputs": [],
      "source": [
        "import numpy as np\n",
        "import pandas as pd\n",
        "from sklearn.preprocessing import StandardScaler\n",
        "from sklearn.model_selection import train_test_split\n",
        "# from sklearn import svm\n",
        "from sklearn.metrics import accuracy_score,confusion_matrix\n"
      ]
    },
    {
      "cell_type": "code",
      "execution_count": 2,
      "metadata": {
        "id": "4J11EaV57hk0"
      },
      "outputs": [],
      "source": [
        "class SVM_classifier():\n",
        "\n",
        "\n",
        "  # initiating the hyperparameters\n",
        "  def __init__(self, learning_rate, no_of_iterations, lambda_parameter):\n",
        "\n",
        "    self.learning_rate = learning_rate\n",
        "    self.no_of_iterations = no_of_iterations\n",
        "    self.lambda_parameter = lambda_parameter\n",
        "\n",
        "\n",
        "  \n",
        "  # fitting the dataset to SVM Classifier\n",
        "  def fit(self, X, Y):\n",
        "\n",
        "    # m  --> number of Data points --> number of rows\n",
        "    # n  --> number of input features --> number of columns\n",
        "    self.m, self.n = X.shape\n",
        "\n",
        "    # initiating the weight value and bias value\n",
        "\n",
        "    self.w = np.zeros(self.n)\n",
        "\n",
        "    self.b = 0\n",
        "\n",
        "    self.X = X\n",
        "\n",
        "    self.Y = Y\n",
        "\n",
        "    # implementing Gradient Descent algorithm for Optimization\n",
        "\n",
        "    for i in range(self.no_of_iterations):\n",
        "      self.update_weights()\n",
        "\n",
        "\n",
        "\n",
        "  # function for updating the weight and bias value\n",
        "  def update_weights(self):\n",
        "\n",
        "    # label encoding\n",
        "    y_label = np.where(self.Y <= 0, -1, 1)\n",
        "\n",
        "\n",
        "\n",
        "    # gradients ( dw, db)\n",
        "    for index, x_i in enumerate(self.X):\n",
        "\n",
        "      condition = y_label[index] * (np.dot(x_i, self.w) - self.b) >= 1\n",
        "\n",
        "      if (condition == True):\n",
        "\n",
        "        dw = 2 * self.lambda_parameter * self.w\n",
        "        db = 0\n",
        "\n",
        "      else:\n",
        "\n",
        "        dw = 2 * self.lambda_parameter * self.w - np.dot(x_i, y_label[index])\n",
        "        db = y_label[index]\n",
        "\n",
        "\n",
        "      self.w = self.w - self.learning_rate * dw\n",
        "\n",
        "      self.b = self.b - self.learning_rate * db\n",
        "\n",
        "\n",
        "\n",
        "  # predict the label for a given input value\n",
        "  def predict(self, X):\n",
        "\n",
        "    output = np.dot(X, self.w) - self.b\n",
        "    \n",
        "    predicted_labels = np.sign(output)\n",
        "\n",
        "    y_hat = np.where(predicted_labels <= -1, 0, 1)\n",
        "\n",
        "    return y_hat"
      ]
    },
    {
      "cell_type": "markdown",
      "metadata": {
        "id": "yDT1t_IYVQpl"
      },
      "source": [
        " Data Collection And Analysis"
      ]
    },
    {
      "cell_type": "code",
      "execution_count": 3,
      "metadata": {
        "id": "V_Cx6LscUnM-"
      },
      "outputs": [],
      "source": [
        "#loading the diabetes dataset to pandas dataframe\n",
        "diabetes_dataset=pd.read_csv('diabetes.csv')"
      ]
    },
    {
      "cell_type": "code",
      "execution_count": 4,
      "metadata": {
        "id": "Gh1ZXuHbWg6W"
      },
      "outputs": [
        {
          "name": "stdout",
          "output_type": "stream",
          "text": [
            "\u001b[1;31mSignature:\u001b[0m\n",
            "\u001b[0mpd\u001b[0m\u001b[1;33m.\u001b[0m\u001b[0mread_csv\u001b[0m\u001b[1;33m(\u001b[0m\u001b[1;33m\n",
            "\u001b[0m    \u001b[0mfilepath_or_buffer\u001b[0m\u001b[1;33m:\u001b[0m \u001b[1;34m'FilePath | ReadCsvBuffer[bytes] | ReadCsvBuffer[str]'\u001b[0m\u001b[1;33m,\u001b[0m\u001b[1;33m\n",
            "\u001b[0m    \u001b[1;33m*\u001b[0m\u001b[1;33m,\u001b[0m\u001b[1;33m\n",
            "\u001b[0m    \u001b[0msep\u001b[0m\u001b[1;33m:\u001b[0m \u001b[1;34m'str | None | lib.NoDefault'\u001b[0m \u001b[1;33m=\u001b[0m \u001b[1;33m<\u001b[0m\u001b[0mno_default\u001b[0m\u001b[1;33m>\u001b[0m\u001b[1;33m,\u001b[0m\u001b[1;33m\n",
            "\u001b[0m    \u001b[0mdelimiter\u001b[0m\u001b[1;33m:\u001b[0m \u001b[1;34m'str | None | lib.NoDefault'\u001b[0m \u001b[1;33m=\u001b[0m \u001b[1;32mNone\u001b[0m\u001b[1;33m,\u001b[0m\u001b[1;33m\n",
            "\u001b[0m    \u001b[0mheader\u001b[0m\u001b[1;33m:\u001b[0m \u001b[1;34m\"int | Sequence[int] | None | Literal['infer']\"\u001b[0m \u001b[1;33m=\u001b[0m \u001b[1;34m'infer'\u001b[0m\u001b[1;33m,\u001b[0m\u001b[1;33m\n",
            "\u001b[0m    \u001b[0mnames\u001b[0m\u001b[1;33m:\u001b[0m \u001b[1;34m'Sequence[Hashable] | None | lib.NoDefault'\u001b[0m \u001b[1;33m=\u001b[0m \u001b[1;33m<\u001b[0m\u001b[0mno_default\u001b[0m\u001b[1;33m>\u001b[0m\u001b[1;33m,\u001b[0m\u001b[1;33m\n",
            "\u001b[0m    \u001b[0mindex_col\u001b[0m\u001b[1;33m:\u001b[0m \u001b[1;34m'IndexLabel | Literal[False] | None'\u001b[0m \u001b[1;33m=\u001b[0m \u001b[1;32mNone\u001b[0m\u001b[1;33m,\u001b[0m\u001b[1;33m\n",
            "\u001b[0m    \u001b[0musecols\u001b[0m\u001b[1;33m=\u001b[0m\u001b[1;32mNone\u001b[0m\u001b[1;33m,\u001b[0m\u001b[1;33m\n",
            "\u001b[0m    \u001b[0msqueeze\u001b[0m\u001b[1;33m:\u001b[0m \u001b[1;34m'bool | None'\u001b[0m \u001b[1;33m=\u001b[0m \u001b[1;32mNone\u001b[0m\u001b[1;33m,\u001b[0m\u001b[1;33m\n",
            "\u001b[0m    \u001b[0mprefix\u001b[0m\u001b[1;33m:\u001b[0m \u001b[1;34m'str | lib.NoDefault'\u001b[0m \u001b[1;33m=\u001b[0m \u001b[1;33m<\u001b[0m\u001b[0mno_default\u001b[0m\u001b[1;33m>\u001b[0m\u001b[1;33m,\u001b[0m\u001b[1;33m\n",
            "\u001b[0m    \u001b[0mmangle_dupe_cols\u001b[0m\u001b[1;33m:\u001b[0m \u001b[1;34m'bool'\u001b[0m \u001b[1;33m=\u001b[0m \u001b[1;32mTrue\u001b[0m\u001b[1;33m,\u001b[0m\u001b[1;33m\n",
            "\u001b[0m    \u001b[0mdtype\u001b[0m\u001b[1;33m:\u001b[0m \u001b[1;34m'DtypeArg | None'\u001b[0m \u001b[1;33m=\u001b[0m \u001b[1;32mNone\u001b[0m\u001b[1;33m,\u001b[0m\u001b[1;33m\n",
            "\u001b[0m    \u001b[0mengine\u001b[0m\u001b[1;33m:\u001b[0m \u001b[1;34m'CSVEngine | None'\u001b[0m \u001b[1;33m=\u001b[0m \u001b[1;32mNone\u001b[0m\u001b[1;33m,\u001b[0m\u001b[1;33m\n",
            "\u001b[0m    \u001b[0mconverters\u001b[0m\u001b[1;33m=\u001b[0m\u001b[1;32mNone\u001b[0m\u001b[1;33m,\u001b[0m\u001b[1;33m\n",
            "\u001b[0m    \u001b[0mtrue_values\u001b[0m\u001b[1;33m=\u001b[0m\u001b[1;32mNone\u001b[0m\u001b[1;33m,\u001b[0m\u001b[1;33m\n",
            "\u001b[0m    \u001b[0mfalse_values\u001b[0m\u001b[1;33m=\u001b[0m\u001b[1;32mNone\u001b[0m\u001b[1;33m,\u001b[0m\u001b[1;33m\n",
            "\u001b[0m    \u001b[0mskipinitialspace\u001b[0m\u001b[1;33m:\u001b[0m \u001b[1;34m'bool'\u001b[0m \u001b[1;33m=\u001b[0m \u001b[1;32mFalse\u001b[0m\u001b[1;33m,\u001b[0m\u001b[1;33m\n",
            "\u001b[0m    \u001b[0mskiprows\u001b[0m\u001b[1;33m=\u001b[0m\u001b[1;32mNone\u001b[0m\u001b[1;33m,\u001b[0m\u001b[1;33m\n",
            "\u001b[0m    \u001b[0mskipfooter\u001b[0m\u001b[1;33m:\u001b[0m \u001b[1;34m'int'\u001b[0m \u001b[1;33m=\u001b[0m \u001b[1;36m0\u001b[0m\u001b[1;33m,\u001b[0m\u001b[1;33m\n",
            "\u001b[0m    \u001b[0mnrows\u001b[0m\u001b[1;33m:\u001b[0m \u001b[1;34m'int | None'\u001b[0m \u001b[1;33m=\u001b[0m \u001b[1;32mNone\u001b[0m\u001b[1;33m,\u001b[0m\u001b[1;33m\n",
            "\u001b[0m    \u001b[0mna_values\u001b[0m\u001b[1;33m=\u001b[0m\u001b[1;32mNone\u001b[0m\u001b[1;33m,\u001b[0m\u001b[1;33m\n",
            "\u001b[0m    \u001b[0mkeep_default_na\u001b[0m\u001b[1;33m:\u001b[0m \u001b[1;34m'bool'\u001b[0m \u001b[1;33m=\u001b[0m \u001b[1;32mTrue\u001b[0m\u001b[1;33m,\u001b[0m\u001b[1;33m\n",
            "\u001b[0m    \u001b[0mna_filter\u001b[0m\u001b[1;33m:\u001b[0m \u001b[1;34m'bool'\u001b[0m \u001b[1;33m=\u001b[0m \u001b[1;32mTrue\u001b[0m\u001b[1;33m,\u001b[0m\u001b[1;33m\n",
            "\u001b[0m    \u001b[0mverbose\u001b[0m\u001b[1;33m:\u001b[0m \u001b[1;34m'bool'\u001b[0m \u001b[1;33m=\u001b[0m \u001b[1;32mFalse\u001b[0m\u001b[1;33m,\u001b[0m\u001b[1;33m\n",
            "\u001b[0m    \u001b[0mskip_blank_lines\u001b[0m\u001b[1;33m:\u001b[0m \u001b[1;34m'bool'\u001b[0m \u001b[1;33m=\u001b[0m \u001b[1;32mTrue\u001b[0m\u001b[1;33m,\u001b[0m\u001b[1;33m\n",
            "\u001b[0m    \u001b[0mparse_dates\u001b[0m\u001b[1;33m=\u001b[0m\u001b[1;32mNone\u001b[0m\u001b[1;33m,\u001b[0m\u001b[1;33m\n",
            "\u001b[0m    \u001b[0minfer_datetime_format\u001b[0m\u001b[1;33m:\u001b[0m \u001b[1;34m'bool'\u001b[0m \u001b[1;33m=\u001b[0m \u001b[1;32mFalse\u001b[0m\u001b[1;33m,\u001b[0m\u001b[1;33m\n",
            "\u001b[0m    \u001b[0mkeep_date_col\u001b[0m\u001b[1;33m:\u001b[0m \u001b[1;34m'bool'\u001b[0m \u001b[1;33m=\u001b[0m \u001b[1;32mFalse\u001b[0m\u001b[1;33m,\u001b[0m\u001b[1;33m\n",
            "\u001b[0m    \u001b[0mdate_parser\u001b[0m\u001b[1;33m=\u001b[0m\u001b[1;32mNone\u001b[0m\u001b[1;33m,\u001b[0m\u001b[1;33m\n",
            "\u001b[0m    \u001b[0mdayfirst\u001b[0m\u001b[1;33m:\u001b[0m \u001b[1;34m'bool'\u001b[0m \u001b[1;33m=\u001b[0m \u001b[1;32mFalse\u001b[0m\u001b[1;33m,\u001b[0m\u001b[1;33m\n",
            "\u001b[0m    \u001b[0mcache_dates\u001b[0m\u001b[1;33m:\u001b[0m \u001b[1;34m'bool'\u001b[0m \u001b[1;33m=\u001b[0m \u001b[1;32mTrue\u001b[0m\u001b[1;33m,\u001b[0m\u001b[1;33m\n",
            "\u001b[0m    \u001b[0miterator\u001b[0m\u001b[1;33m:\u001b[0m \u001b[1;34m'bool'\u001b[0m \u001b[1;33m=\u001b[0m \u001b[1;32mFalse\u001b[0m\u001b[1;33m,\u001b[0m\u001b[1;33m\n",
            "\u001b[0m    \u001b[0mchunksize\u001b[0m\u001b[1;33m:\u001b[0m \u001b[1;34m'int | None'\u001b[0m \u001b[1;33m=\u001b[0m \u001b[1;32mNone\u001b[0m\u001b[1;33m,\u001b[0m\u001b[1;33m\n",
            "\u001b[0m    \u001b[0mcompression\u001b[0m\u001b[1;33m:\u001b[0m \u001b[1;34m'CompressionOptions'\u001b[0m \u001b[1;33m=\u001b[0m \u001b[1;34m'infer'\u001b[0m\u001b[1;33m,\u001b[0m\u001b[1;33m\n",
            "\u001b[0m    \u001b[0mthousands\u001b[0m\u001b[1;33m:\u001b[0m \u001b[1;34m'str | None'\u001b[0m \u001b[1;33m=\u001b[0m \u001b[1;32mNone\u001b[0m\u001b[1;33m,\u001b[0m\u001b[1;33m\n",
            "\u001b[0m    \u001b[0mdecimal\u001b[0m\u001b[1;33m:\u001b[0m \u001b[1;34m'str'\u001b[0m \u001b[1;33m=\u001b[0m \u001b[1;34m'.'\u001b[0m\u001b[1;33m,\u001b[0m\u001b[1;33m\n",
            "\u001b[0m    \u001b[0mlineterminator\u001b[0m\u001b[1;33m:\u001b[0m \u001b[1;34m'str | None'\u001b[0m \u001b[1;33m=\u001b[0m \u001b[1;32mNone\u001b[0m\u001b[1;33m,\u001b[0m\u001b[1;33m\n",
            "\u001b[0m    \u001b[0mquotechar\u001b[0m\u001b[1;33m:\u001b[0m \u001b[1;34m'str'\u001b[0m \u001b[1;33m=\u001b[0m \u001b[1;34m'\"'\u001b[0m\u001b[1;33m,\u001b[0m\u001b[1;33m\n",
            "\u001b[0m    \u001b[0mquoting\u001b[0m\u001b[1;33m:\u001b[0m \u001b[1;34m'int'\u001b[0m \u001b[1;33m=\u001b[0m \u001b[1;36m0\u001b[0m\u001b[1;33m,\u001b[0m\u001b[1;33m\n",
            "\u001b[0m    \u001b[0mdoublequote\u001b[0m\u001b[1;33m:\u001b[0m \u001b[1;34m'bool'\u001b[0m \u001b[1;33m=\u001b[0m \u001b[1;32mTrue\u001b[0m\u001b[1;33m,\u001b[0m\u001b[1;33m\n",
            "\u001b[0m    \u001b[0mescapechar\u001b[0m\u001b[1;33m:\u001b[0m \u001b[1;34m'str | None'\u001b[0m \u001b[1;33m=\u001b[0m \u001b[1;32mNone\u001b[0m\u001b[1;33m,\u001b[0m\u001b[1;33m\n",
            "\u001b[0m    \u001b[0mcomment\u001b[0m\u001b[1;33m:\u001b[0m \u001b[1;34m'str | None'\u001b[0m \u001b[1;33m=\u001b[0m \u001b[1;32mNone\u001b[0m\u001b[1;33m,\u001b[0m\u001b[1;33m\n",
            "\u001b[0m    \u001b[0mencoding\u001b[0m\u001b[1;33m:\u001b[0m \u001b[1;34m'str | None'\u001b[0m \u001b[1;33m=\u001b[0m \u001b[1;32mNone\u001b[0m\u001b[1;33m,\u001b[0m\u001b[1;33m\n",
            "\u001b[0m    \u001b[0mencoding_errors\u001b[0m\u001b[1;33m:\u001b[0m \u001b[1;34m'str | None'\u001b[0m \u001b[1;33m=\u001b[0m \u001b[1;34m'strict'\u001b[0m\u001b[1;33m,\u001b[0m\u001b[1;33m\n",
            "\u001b[0m    \u001b[0mdialect\u001b[0m\u001b[1;33m:\u001b[0m \u001b[1;34m'str | csv.Dialect | None'\u001b[0m \u001b[1;33m=\u001b[0m \u001b[1;32mNone\u001b[0m\u001b[1;33m,\u001b[0m\u001b[1;33m\n",
            "\u001b[0m    \u001b[0merror_bad_lines\u001b[0m\u001b[1;33m:\u001b[0m \u001b[1;34m'bool | None'\u001b[0m \u001b[1;33m=\u001b[0m \u001b[1;32mNone\u001b[0m\u001b[1;33m,\u001b[0m\u001b[1;33m\n",
            "\u001b[0m    \u001b[0mwarn_bad_lines\u001b[0m\u001b[1;33m:\u001b[0m \u001b[1;34m'bool | None'\u001b[0m \u001b[1;33m=\u001b[0m \u001b[1;32mNone\u001b[0m\u001b[1;33m,\u001b[0m\u001b[1;33m\n",
            "\u001b[0m    \u001b[0mon_bad_lines\u001b[0m\u001b[1;33m=\u001b[0m\u001b[1;32mNone\u001b[0m\u001b[1;33m,\u001b[0m\u001b[1;33m\n",
            "\u001b[0m    \u001b[0mdelim_whitespace\u001b[0m\u001b[1;33m:\u001b[0m \u001b[1;34m'bool'\u001b[0m \u001b[1;33m=\u001b[0m \u001b[1;32mFalse\u001b[0m\u001b[1;33m,\u001b[0m\u001b[1;33m\n",
            "\u001b[0m    \u001b[0mlow_memory\u001b[0m\u001b[1;33m=\u001b[0m\u001b[1;32mTrue\u001b[0m\u001b[1;33m,\u001b[0m\u001b[1;33m\n",
            "\u001b[0m    \u001b[0mmemory_map\u001b[0m\u001b[1;33m:\u001b[0m \u001b[1;34m'bool'\u001b[0m \u001b[1;33m=\u001b[0m \u001b[1;32mFalse\u001b[0m\u001b[1;33m,\u001b[0m\u001b[1;33m\n",
            "\u001b[0m    \u001b[0mfloat_precision\u001b[0m\u001b[1;33m:\u001b[0m \u001b[1;34m\"Literal['high', 'legacy'] | None\"\u001b[0m \u001b[1;33m=\u001b[0m \u001b[1;32mNone\u001b[0m\u001b[1;33m,\u001b[0m\u001b[1;33m\n",
            "\u001b[0m    \u001b[0mstorage_options\u001b[0m\u001b[1;33m:\u001b[0m \u001b[1;34m'StorageOptions'\u001b[0m \u001b[1;33m=\u001b[0m \u001b[1;32mNone\u001b[0m\u001b[1;33m,\u001b[0m\u001b[1;33m\n",
            "\u001b[0m\u001b[1;33m)\u001b[0m \u001b[1;33m->\u001b[0m \u001b[1;34m'DataFrame | TextFileReader'\u001b[0m\u001b[1;33m\u001b[0m\u001b[1;33m\u001b[0m\u001b[0m\n",
            "\u001b[1;31mDocstring:\u001b[0m\n",
            "Read a comma-separated values (csv) file into DataFrame.\n",
            "\n",
            "Also supports optionally iterating or breaking of the file\n",
            "into chunks.\n",
            "\n",
            "Additional help can be found in the online docs for\n",
            "`IO Tools <https://pandas.pydata.org/pandas-docs/stable/user_guide/io.html>`_.\n",
            "\n",
            "Parameters\n",
            "----------\n",
            "filepath_or_buffer : str, path object or file-like object\n",
            "    Any valid string path is acceptable. The string could be a URL. Valid\n",
            "    URL schemes include http, ftp, s3, gs, and file. For file URLs, a host is\n",
            "    expected. A local file could be: file://localhost/path/to/table.csv.\n",
            "\n",
            "    If you want to pass in a path object, pandas accepts any ``os.PathLike``.\n",
            "\n",
            "    By file-like object, we refer to objects with a ``read()`` method, such as\n",
            "    a file handle (e.g. via builtin ``open`` function) or ``StringIO``.\n",
            "sep : str, default ','\n",
            "    Delimiter to use. If sep is None, the C engine cannot automatically detect\n",
            "    the separator, but the Python parsing engine can, meaning the latter will\n",
            "    be used and automatically detect the separator by Python's builtin sniffer\n",
            "    tool, ``csv.Sniffer``. In addition, separators longer than 1 character and\n",
            "    different from ``'\\s+'`` will be interpreted as regular expressions and\n",
            "    will also force the use of the Python parsing engine. Note that regex\n",
            "    delimiters are prone to ignoring quoted data. Regex example: ``'\\r\\t'``.\n",
            "delimiter : str, default ``None``\n",
            "    Alias for sep.\n",
            "header : int, list of int, None, default 'infer'\n",
            "    Row number(s) to use as the column names, and the start of the\n",
            "    data.  Default behavior is to infer the column names: if no names\n",
            "    are passed the behavior is identical to ``header=0`` and column\n",
            "    names are inferred from the first line of the file, if column\n",
            "    names are passed explicitly then the behavior is identical to\n",
            "    ``header=None``. Explicitly pass ``header=0`` to be able to\n",
            "    replace existing names. The header can be a list of integers that\n",
            "    specify row locations for a multi-index on the columns\n",
            "    e.g. [0,1,3]. Intervening rows that are not specified will be\n",
            "    skipped (e.g. 2 in this example is skipped). Note that this\n",
            "    parameter ignores commented lines and empty lines if\n",
            "    ``skip_blank_lines=True``, so ``header=0`` denotes the first line of\n",
            "    data rather than the first line of the file.\n",
            "names : array-like, optional\n",
            "    List of column names to use. If the file contains a header row,\n",
            "    then you should explicitly pass ``header=0`` to override the column names.\n",
            "    Duplicates in this list are not allowed.\n",
            "index_col : int, str, sequence of int / str, or False, optional, default ``None``\n",
            "  Column(s) to use as the row labels of the ``DataFrame``, either given as\n",
            "  string name or column index. If a sequence of int / str is given, a\n",
            "  MultiIndex is used.\n",
            "\n",
            "  Note: ``index_col=False`` can be used to force pandas to *not* use the first\n",
            "  column as the index, e.g. when you have a malformed file with delimiters at\n",
            "  the end of each line.\n",
            "usecols : list-like or callable, optional\n",
            "    Return a subset of the columns. If list-like, all elements must either\n",
            "    be positional (i.e. integer indices into the document columns) or strings\n",
            "    that correspond to column names provided either by the user in `names` or\n",
            "    inferred from the document header row(s). If ``names`` are given, the document\n",
            "    header row(s) are not taken into account. For example, a valid list-like\n",
            "    `usecols` parameter would be ``[0, 1, 2]`` or ``['foo', 'bar', 'baz']``.\n",
            "    Element order is ignored, so ``usecols=[0, 1]`` is the same as ``[1, 0]``.\n",
            "    To instantiate a DataFrame from ``data`` with element order preserved use\n",
            "    ``pd.read_csv(data, usecols=['foo', 'bar'])[['foo', 'bar']]`` for columns\n",
            "    in ``['foo', 'bar']`` order or\n",
            "    ``pd.read_csv(data, usecols=['foo', 'bar'])[['bar', 'foo']]``\n",
            "    for ``['bar', 'foo']`` order.\n",
            "\n",
            "    If callable, the callable function will be evaluated against the column\n",
            "    names, returning names where the callable function evaluates to True. An\n",
            "    example of a valid callable argument would be ``lambda x: x.upper() in\n",
            "    ['AAA', 'BBB', 'DDD']``. Using this parameter results in much faster\n",
            "    parsing time and lower memory usage.\n",
            "squeeze : bool, default False\n",
            "    If the parsed data only contains one column then return a Series.\n",
            "\n",
            "    .. deprecated:: 1.4.0\n",
            "        Append ``.squeeze(\"columns\")`` to the call to ``read_csv`` to squeeze\n",
            "        the data.\n",
            "prefix : str, optional\n",
            "    Prefix to add to column numbers when no header, e.g. 'X' for X0, X1, ...\n",
            "\n",
            "    .. deprecated:: 1.4.0\n",
            "       Use a list comprehension on the DataFrame's columns after calling ``read_csv``.\n",
            "mangle_dupe_cols : bool, default True\n",
            "    Duplicate columns will be specified as 'X', 'X.1', ...'X.N', rather than\n",
            "    'X'...'X'. Passing in False will cause data to be overwritten if there\n",
            "    are duplicate names in the columns.\n",
            "\n",
            "    .. deprecated:: 1.5.0\n",
            "        Not implemented, and a new argument to specify the pattern for the\n",
            "        names of duplicated columns will be added instead\n",
            "dtype : Type name or dict of column -> type, optional\n",
            "    Data type for data or columns. E.g. {'a': np.float64, 'b': np.int32,\n",
            "    'c': 'Int64'}\n",
            "    Use `str` or `object` together with suitable `na_values` settings\n",
            "    to preserve and not interpret dtype.\n",
            "    If converters are specified, they will be applied INSTEAD\n",
            "    of dtype conversion.\n",
            "\n",
            "    .. versionadded:: 1.5.0\n",
            "\n",
            "        Support for defaultdict was added. Specify a defaultdict as input where\n",
            "        the default determines the dtype of the columns which are not explicitly\n",
            "        listed.\n",
            "engine : {'c', 'python', 'pyarrow'}, optional\n",
            "    Parser engine to use. The C and pyarrow engines are faster, while the python engine\n",
            "    is currently more feature-complete. Multithreading is currently only supported by\n",
            "    the pyarrow engine.\n",
            "\n",
            "    .. versionadded:: 1.4.0\n",
            "\n",
            "        The \"pyarrow\" engine was added as an *experimental* engine, and some features\n",
            "        are unsupported, or may not work correctly, with this engine.\n",
            "converters : dict, optional\n",
            "    Dict of functions for converting values in certain columns. Keys can either\n",
            "    be integers or column labels.\n",
            "true_values : list, optional\n",
            "    Values to consider as True.\n",
            "false_values : list, optional\n",
            "    Values to consider as False.\n",
            "skipinitialspace : bool, default False\n",
            "    Skip spaces after delimiter.\n",
            "skiprows : list-like, int or callable, optional\n",
            "    Line numbers to skip (0-indexed) or number of lines to skip (int)\n",
            "    at the start of the file.\n",
            "\n",
            "    If callable, the callable function will be evaluated against the row\n",
            "    indices, returning True if the row should be skipped and False otherwise.\n",
            "    An example of a valid callable argument would be ``lambda x: x in [0, 2]``.\n",
            "skipfooter : int, default 0\n",
            "    Number of lines at bottom of file to skip (Unsupported with engine='c').\n",
            "nrows : int, optional\n",
            "    Number of rows of file to read. Useful for reading pieces of large files.\n",
            "na_values : scalar, str, list-like, or dict, optional\n",
            "    Additional strings to recognize as NA/NaN. If dict passed, specific\n",
            "    per-column NA values.  By default the following values are interpreted as\n",
            "    NaN: '', '#N/A', '#N/A N/A', '#NA', '-1.#IND', '-1.#QNAN', '-NaN', '-nan',\n",
            "    '1.#IND', '1.#QNAN', '<NA>', 'N/A', 'NA', 'NULL', 'NaN', 'n/a',\n",
            "    'nan', 'null'.\n",
            "keep_default_na : bool, default True\n",
            "    Whether or not to include the default NaN values when parsing the data.\n",
            "    Depending on whether `na_values` is passed in, the behavior is as follows:\n",
            "\n",
            "    * If `keep_default_na` is True, and `na_values` are specified, `na_values`\n",
            "      is appended to the default NaN values used for parsing.\n",
            "    * If `keep_default_na` is True, and `na_values` are not specified, only\n",
            "      the default NaN values are used for parsing.\n",
            "    * If `keep_default_na` is False, and `na_values` are specified, only\n",
            "      the NaN values specified `na_values` are used for parsing.\n",
            "    * If `keep_default_na` is False, and `na_values` are not specified, no\n",
            "      strings will be parsed as NaN.\n",
            "\n",
            "    Note that if `na_filter` is passed in as False, the `keep_default_na` and\n",
            "    `na_values` parameters will be ignored.\n",
            "na_filter : bool, default True\n",
            "    Detect missing value markers (empty strings and the value of na_values). In\n",
            "    data without any NAs, passing na_filter=False can improve the performance\n",
            "    of reading a large file.\n",
            "verbose : bool, default False\n",
            "    Indicate number of NA values placed in non-numeric columns.\n",
            "skip_blank_lines : bool, default True\n",
            "    If True, skip over blank lines rather than interpreting as NaN values.\n",
            "parse_dates : bool or list of int or names or list of lists or dict, default False\n",
            "    The behavior is as follows:\n",
            "\n",
            "    * boolean. If True -> try parsing the index.\n",
            "    * list of int or names. e.g. If [1, 2, 3] -> try parsing columns 1, 2, 3\n",
            "      each as a separate date column.\n",
            "    * list of lists. e.g.  If [[1, 3]] -> combine columns 1 and 3 and parse as\n",
            "      a single date column.\n",
            "    * dict, e.g. {'foo' : [1, 3]} -> parse columns 1, 3 as date and call\n",
            "      result 'foo'\n",
            "\n",
            "    If a column or index cannot be represented as an array of datetimes,\n",
            "    say because of an unparsable value or a mixture of timezones, the column\n",
            "    or index will be returned unaltered as an object data type. For\n",
            "    non-standard datetime parsing, use ``pd.to_datetime`` after\n",
            "    ``pd.read_csv``. To parse an index or column with a mixture of timezones,\n",
            "    specify ``date_parser`` to be a partially-applied\n",
            "    :func:`pandas.to_datetime` with ``utc=True``. See\n",
            "    :ref:`io.csv.mixed_timezones` for more.\n",
            "\n",
            "    Note: A fast-path exists for iso8601-formatted dates.\n",
            "infer_datetime_format : bool, default False\n",
            "    If True and `parse_dates` is enabled, pandas will attempt to infer the\n",
            "    format of the datetime strings in the columns, and if it can be inferred,\n",
            "    switch to a faster method of parsing them. In some cases this can increase\n",
            "    the parsing speed by 5-10x.\n",
            "keep_date_col : bool, default False\n",
            "    If True and `parse_dates` specifies combining multiple columns then\n",
            "    keep the original columns.\n",
            "date_parser : function, optional\n",
            "    Function to use for converting a sequence of string columns to an array of\n",
            "    datetime instances. The default uses ``dateutil.parser.parser`` to do the\n",
            "    conversion. Pandas will try to call `date_parser` in three different ways,\n",
            "    advancing to the next if an exception occurs: 1) Pass one or more arrays\n",
            "    (as defined by `parse_dates`) as arguments; 2) concatenate (row-wise) the\n",
            "    string values from the columns defined by `parse_dates` into a single array\n",
            "    and pass that; and 3) call `date_parser` once for each row using one or\n",
            "    more strings (corresponding to the columns defined by `parse_dates`) as\n",
            "    arguments.\n",
            "dayfirst : bool, default False\n",
            "    DD/MM format dates, international and European format.\n",
            "cache_dates : bool, default True\n",
            "    If True, use a cache of unique, converted dates to apply the datetime\n",
            "    conversion. May produce significant speed-up when parsing duplicate\n",
            "    date strings, especially ones with timezone offsets.\n",
            "\n",
            "    .. versionadded:: 0.25.0\n",
            "iterator : bool, default False\n",
            "    Return TextFileReader object for iteration or getting chunks with\n",
            "    ``get_chunk()``.\n",
            "\n",
            "    .. versionchanged:: 1.2\n",
            "\n",
            "       ``TextFileReader`` is a context manager.\n",
            "chunksize : int, optional\n",
            "    Return TextFileReader object for iteration.\n",
            "    See the `IO Tools docs\n",
            "    <https://pandas.pydata.org/pandas-docs/stable/io.html#io-chunking>`_\n",
            "    for more information on ``iterator`` and ``chunksize``.\n",
            "\n",
            "    .. versionchanged:: 1.2\n",
            "\n",
            "       ``TextFileReader`` is a context manager.\n",
            "compression : str or dict, default 'infer'\n",
            "    For on-the-fly decompression of on-disk data. If 'infer' and 'filepath_or_buffer' is\n",
            "    path-like, then detect compression from the following extensions: '.gz',\n",
            "    '.bz2', '.zip', '.xz', '.zst', '.tar', '.tar.gz', '.tar.xz' or '.tar.bz2'\n",
            "    (otherwise no compression).\n",
            "    If using 'zip' or 'tar', the ZIP file must contain only one data file to be read in.\n",
            "    Set to ``None`` for no decompression.\n",
            "    Can also be a dict with key ``'method'`` set\n",
            "    to one of {``'zip'``, ``'gzip'``, ``'bz2'``, ``'zstd'``, ``'tar'``} and other\n",
            "    key-value pairs are forwarded to\n",
            "    ``zipfile.ZipFile``, ``gzip.GzipFile``,\n",
            "    ``bz2.BZ2File``, ``zstandard.ZstdDecompressor`` or\n",
            "    ``tarfile.TarFile``, respectively.\n",
            "    As an example, the following could be passed for Zstandard decompression using a\n",
            "    custom compression dictionary:\n",
            "    ``compression={'method': 'zstd', 'dict_data': my_compression_dict}``.\n",
            "\n",
            "        .. versionadded:: 1.5.0\n",
            "            Added support for `.tar` files.\n",
            "\n",
            "    .. versionchanged:: 1.4.0 Zstandard support.\n",
            "\n",
            "thousands : str, optional\n",
            "    Thousands separator.\n",
            "decimal : str, default '.'\n",
            "    Character to recognize as decimal point (e.g. use ',' for European data).\n",
            "lineterminator : str (length 1), optional\n",
            "    Character to break file into lines. Only valid with C parser.\n",
            "quotechar : str (length 1), optional\n",
            "    The character used to denote the start and end of a quoted item. Quoted\n",
            "    items can include the delimiter and it will be ignored.\n",
            "quoting : int or csv.QUOTE_* instance, default 0\n",
            "    Control field quoting behavior per ``csv.QUOTE_*`` constants. Use one of\n",
            "    QUOTE_MINIMAL (0), QUOTE_ALL (1), QUOTE_NONNUMERIC (2) or QUOTE_NONE (3).\n",
            "doublequote : bool, default ``True``\n",
            "   When quotechar is specified and quoting is not ``QUOTE_NONE``, indicate\n",
            "   whether or not to interpret two consecutive quotechar elements INSIDE a\n",
            "   field as a single ``quotechar`` element.\n",
            "escapechar : str (length 1), optional\n",
            "    One-character string used to escape other characters.\n",
            "comment : str, optional\n",
            "    Indicates remainder of line should not be parsed. If found at the beginning\n",
            "    of a line, the line will be ignored altogether. This parameter must be a\n",
            "    single character. Like empty lines (as long as ``skip_blank_lines=True``),\n",
            "    fully commented lines are ignored by the parameter `header` but not by\n",
            "    `skiprows`. For example, if ``comment='#'``, parsing\n",
            "    ``#empty\\na,b,c\\n1,2,3`` with ``header=0`` will result in 'a,b,c' being\n",
            "    treated as the header.\n",
            "encoding : str, optional\n",
            "    Encoding to use for UTF when reading/writing (ex. 'utf-8'). `List of Python\n",
            "    standard encodings\n",
            "    <https://docs.python.org/3/library/codecs.html#standard-encodings>`_ .\n",
            "\n",
            "    .. versionchanged:: 1.2\n",
            "\n",
            "       When ``encoding`` is ``None``, ``errors=\"replace\"`` is passed to\n",
            "       ``open()``. Otherwise, ``errors=\"strict\"`` is passed to ``open()``.\n",
            "       This behavior was previously only the case for ``engine=\"python\"``.\n",
            "\n",
            "    .. versionchanged:: 1.3.0\n",
            "\n",
            "       ``encoding_errors`` is a new argument. ``encoding`` has no longer an\n",
            "       influence on how encoding errors are handled.\n",
            "\n",
            "encoding_errors : str, optional, default \"strict\"\n",
            "    How encoding errors are treated. `List of possible values\n",
            "    <https://docs.python.org/3/library/codecs.html#error-handlers>`_ .\n",
            "\n",
            "    .. versionadded:: 1.3.0\n",
            "\n",
            "dialect : str or csv.Dialect, optional\n",
            "    If provided, this parameter will override values (default or not) for the\n",
            "    following parameters: `delimiter`, `doublequote`, `escapechar`,\n",
            "    `skipinitialspace`, `quotechar`, and `quoting`. If it is necessary to\n",
            "    override values, a ParserWarning will be issued. See csv.Dialect\n",
            "    documentation for more details.\n",
            "error_bad_lines : bool, optional, default ``None``\n",
            "    Lines with too many fields (e.g. a csv line with too many commas) will by\n",
            "    default cause an exception to be raised, and no DataFrame will be returned.\n",
            "    If False, then these \"bad lines\" will be dropped from the DataFrame that is\n",
            "    returned.\n",
            "\n",
            "    .. deprecated:: 1.3.0\n",
            "       The ``on_bad_lines`` parameter should be used instead to specify behavior upon\n",
            "       encountering a bad line instead.\n",
            "warn_bad_lines : bool, optional, default ``None``\n",
            "    If error_bad_lines is False, and warn_bad_lines is True, a warning for each\n",
            "    \"bad line\" will be output.\n",
            "\n",
            "    .. deprecated:: 1.3.0\n",
            "       The ``on_bad_lines`` parameter should be used instead to specify behavior upon\n",
            "       encountering a bad line instead.\n",
            "on_bad_lines : {'error', 'warn', 'skip'} or callable, default 'error'\n",
            "    Specifies what to do upon encountering a bad line (a line with too many fields).\n",
            "    Allowed values are :\n",
            "\n",
            "        - 'error', raise an Exception when a bad line is encountered.\n",
            "        - 'warn', raise a warning when a bad line is encountered and skip that line.\n",
            "        - 'skip', skip bad lines without raising or warning when they are encountered.\n",
            "\n",
            "    .. versionadded:: 1.3.0\n",
            "\n",
            "    .. versionadded:: 1.4.0\n",
            "\n",
            "        - callable, function with signature\n",
            "          ``(bad_line: list[str]) -> list[str] | None`` that will process a single\n",
            "          bad line. ``bad_line`` is a list of strings split by the ``sep``.\n",
            "          If the function returns ``None``, the bad line will be ignored.\n",
            "          If the function returns a new list of strings with more elements than\n",
            "          expected, a ``ParserWarning`` will be emitted while dropping extra elements.\n",
            "          Only supported when ``engine=\"python\"``\n",
            "\n",
            "delim_whitespace : bool, default False\n",
            "    Specifies whether or not whitespace (e.g. ``' '`` or ``'    '``) will be\n",
            "    used as the sep. Equivalent to setting ``sep='\\s+'``. If this option\n",
            "    is set to True, nothing should be passed in for the ``delimiter``\n",
            "    parameter.\n",
            "low_memory : bool, default True\n",
            "    Internally process the file in chunks, resulting in lower memory use\n",
            "    while parsing, but possibly mixed type inference.  To ensure no mixed\n",
            "    types either set False, or specify the type with the `dtype` parameter.\n",
            "    Note that the entire file is read into a single DataFrame regardless,\n",
            "    use the `chunksize` or `iterator` parameter to return the data in chunks.\n",
            "    (Only valid with C parser).\n",
            "memory_map : bool, default False\n",
            "    If a filepath is provided for `filepath_or_buffer`, map the file object\n",
            "    directly onto memory and access the data directly from there. Using this\n",
            "    option can improve performance because there is no longer any I/O overhead.\n",
            "float_precision : str, optional\n",
            "    Specifies which converter the C engine should use for floating-point\n",
            "    values. The options are ``None`` or 'high' for the ordinary converter,\n",
            "    'legacy' for the original lower precision pandas converter, and\n",
            "    'round_trip' for the round-trip converter.\n",
            "\n",
            "    .. versionchanged:: 1.2\n",
            "\n",
            "storage_options : dict, optional\n",
            "    Extra options that make sense for a particular storage connection, e.g.\n",
            "    host, port, username, password, etc. For HTTP(S) URLs the key-value pairs\n",
            "    are forwarded to ``urllib.request.Request`` as header options. For other\n",
            "    URLs (e.g. starting with \"s3://\", and \"gcs://\") the key-value pairs are\n",
            "    forwarded to ``fsspec.open``. Please see ``fsspec`` and ``urllib`` for more\n",
            "    details, and for more examples on storage options refer `here\n",
            "    <https://pandas.pydata.org/docs/user_guide/io.html?\n",
            "    highlight=storage_options#reading-writing-remote-files>`_.\n",
            "\n",
            "    .. versionadded:: 1.2\n",
            "\n",
            "Returns\n",
            "-------\n",
            "DataFrame or TextParser\n",
            "    A comma-separated values (csv) file is returned as two-dimensional\n",
            "    data structure with labeled axes.\n",
            "\n",
            "See Also\n",
            "--------\n",
            "DataFrame.to_csv : Write DataFrame to a comma-separated values (csv) file.\n",
            "read_csv : Read a comma-separated values (csv) file into DataFrame.\n",
            "read_fwf : Read a table of fixed-width formatted lines into DataFrame.\n",
            "\n",
            "Examples\n",
            "--------\n",
            ">>> pd.read_csv('data.csv')  # doctest: +SKIP\n",
            "\u001b[1;31mFile:\u001b[0m      c:\\users\\user\\appdata\\local\\programs\\python\\python311\\lib\\site-packages\\pandas\\io\\parsers\\readers.py\n",
            "\u001b[1;31mType:\u001b[0m      function"
          ]
        }
      ],
      "source": [
        "1 pd.read_csv?\n"
      ]
    },
    {
      "cell_type": "code",
      "execution_count": 5,
      "metadata": {
        "colab": {
          "base_uri": "https://localhost:8080/",
          "height": 206
        },
        "id": "wOgkYJbMWi_h",
        "outputId": "2f5b8166-5805-45cc-964f-bd7a76febd9e"
      },
      "outputs": [
        {
          "data": {
            "text/html": [
              "<div>\n",
              "<style scoped>\n",
              "    .dataframe tbody tr th:only-of-type {\n",
              "        vertical-align: middle;\n",
              "    }\n",
              "\n",
              "    .dataframe tbody tr th {\n",
              "        vertical-align: top;\n",
              "    }\n",
              "\n",
              "    .dataframe thead th {\n",
              "        text-align: right;\n",
              "    }\n",
              "</style>\n",
              "<table border=\"1\" class=\"dataframe\">\n",
              "  <thead>\n",
              "    <tr style=\"text-align: right;\">\n",
              "      <th></th>\n",
              "      <th>Acetone</th>\n",
              "      <th>Temperature</th>\n",
              "      <th>Height</th>\n",
              "      <th>Weight</th>\n",
              "      <th>Age</th>\n",
              "      <th>BMI</th>\n",
              "      <th>Outcome</th>\n",
              "    </tr>\n",
              "  </thead>\n",
              "  <tbody>\n",
              "    <tr>\n",
              "      <th>0</th>\n",
              "      <td>16.87</td>\n",
              "      <td>97.8</td>\n",
              "      <td>1.64</td>\n",
              "      <td>55.1</td>\n",
              "      <td>24</td>\n",
              "      <td>22.4</td>\n",
              "      <td>0</td>\n",
              "    </tr>\n",
              "    <tr>\n",
              "      <th>1</th>\n",
              "      <td>13.95</td>\n",
              "      <td>98.1</td>\n",
              "      <td>1.74</td>\n",
              "      <td>69.1</td>\n",
              "      <td>26</td>\n",
              "      <td>28.5</td>\n",
              "      <td>0</td>\n",
              "    </tr>\n",
              "    <tr>\n",
              "      <th>2</th>\n",
              "      <td>31.54</td>\n",
              "      <td>98.8</td>\n",
              "      <td>1.74</td>\n",
              "      <td>88.6</td>\n",
              "      <td>52</td>\n",
              "      <td>30.1</td>\n",
              "      <td>1</td>\n",
              "    </tr>\n",
              "    <tr>\n",
              "      <th>3</th>\n",
              "      <td>20.81</td>\n",
              "      <td>97.8</td>\n",
              "      <td>1.60</td>\n",
              "      <td>64.0</td>\n",
              "      <td>23</td>\n",
              "      <td>22.9</td>\n",
              "      <td>0</td>\n",
              "    </tr>\n",
              "    <tr>\n",
              "      <th>4</th>\n",
              "      <td>13.02</td>\n",
              "      <td>98.2</td>\n",
              "      <td>1.60</td>\n",
              "      <td>60.8</td>\n",
              "      <td>24</td>\n",
              "      <td>24.2</td>\n",
              "      <td>0</td>\n",
              "    </tr>\n",
              "  </tbody>\n",
              "</table>\n",
              "</div>"
            ],
            "text/plain": [
              "   Acetone   Temperature  Height  Weight  Age   BMI  Outcome\n",
              "0     16.87         97.8    1.64    55.1   24  22.4        0\n",
              "1     13.95         98.1    1.74    69.1   26  28.5        0\n",
              "2     31.54         98.8    1.74    88.6   52  30.1        1\n",
              "3     20.81         97.8    1.60    64.0   23  22.9        0\n",
              "4     13.02         98.2    1.60    60.8   24  24.2        0"
            ]
          },
          "execution_count": 5,
          "metadata": {},
          "output_type": "execute_result"
        }
      ],
      "source": [
        "#PRINTING THE FIRST FIVE ROWS OF DIABETES DATASET\n",
        "diabetes_dataset.head()"
      ]
    },
    {
      "cell_type": "code",
      "execution_count": 6,
      "metadata": {
        "colab": {
          "base_uri": "https://localhost:8080/"
        },
        "id": "tNanF5ftX-Fy",
        "outputId": "84c788a7-de21-4846-910d-9261358bd0d4"
      },
      "outputs": [
        {
          "data": {
            "text/plain": [
              "(5000, 7)"
            ]
          },
          "execution_count": 6,
          "metadata": {},
          "output_type": "execute_result"
        }
      ],
      "source": [
        "# No of Rows and Columns in the Dataset\n",
        "diabetes_dataset.shape"
      ]
    },
    {
      "cell_type": "code",
      "execution_count": 7,
      "metadata": {
        "colab": {
          "base_uri": "https://localhost:8080/",
          "height": 300
        },
        "id": "eN1Aaj-DYR1c",
        "outputId": "42e1b8d5-f2ef-4737-ec9f-3e5a8ed74937"
      },
      "outputs": [
        {
          "data": {
            "text/html": [
              "<div>\n",
              "<style scoped>\n",
              "    .dataframe tbody tr th:only-of-type {\n",
              "        vertical-align: middle;\n",
              "    }\n",
              "\n",
              "    .dataframe tbody tr th {\n",
              "        vertical-align: top;\n",
              "    }\n",
              "\n",
              "    .dataframe thead th {\n",
              "        text-align: right;\n",
              "    }\n",
              "</style>\n",
              "<table border=\"1\" class=\"dataframe\">\n",
              "  <thead>\n",
              "    <tr style=\"text-align: right;\">\n",
              "      <th></th>\n",
              "      <th>Acetone</th>\n",
              "      <th>Temperature</th>\n",
              "      <th>Height</th>\n",
              "      <th>Weight</th>\n",
              "      <th>Age</th>\n",
              "      <th>BMI</th>\n",
              "      <th>Outcome</th>\n",
              "    </tr>\n",
              "  </thead>\n",
              "  <tbody>\n",
              "    <tr>\n",
              "      <th>count</th>\n",
              "      <td>5000.000000</td>\n",
              "      <td>5000.000000</td>\n",
              "      <td>5000.000000</td>\n",
              "      <td>5000.000000</td>\n",
              "      <td>5000.000000</td>\n",
              "      <td>5000.000000</td>\n",
              "      <td>5000.000000</td>\n",
              "    </tr>\n",
              "    <tr>\n",
              "      <th>mean</th>\n",
              "      <td>26.624216</td>\n",
              "      <td>98.465840</td>\n",
              "      <td>1.683978</td>\n",
              "      <td>78.135780</td>\n",
              "      <td>39.201000</td>\n",
              "      <td>27.769480</td>\n",
              "      <td>0.504400</td>\n",
              "    </tr>\n",
              "    <tr>\n",
              "      <th>std</th>\n",
              "      <td>14.040280</td>\n",
              "      <td>0.492984</td>\n",
              "      <td>0.072369</td>\n",
              "      <td>14.145526</td>\n",
              "      <td>14.177729</td>\n",
              "      <td>3.102577</td>\n",
              "      <td>0.500031</td>\n",
              "    </tr>\n",
              "    <tr>\n",
              "      <th>min</th>\n",
              "      <td>0.500000</td>\n",
              "      <td>97.600000</td>\n",
              "      <td>1.600000</td>\n",
              "      <td>53.300000</td>\n",
              "      <td>23.000000</td>\n",
              "      <td>19.900000</td>\n",
              "      <td>0.000000</td>\n",
              "    </tr>\n",
              "    <tr>\n",
              "      <th>25%</th>\n",
              "      <td>13.530000</td>\n",
              "      <td>98.000000</td>\n",
              "      <td>1.620000</td>\n",
              "      <td>62.875000</td>\n",
              "      <td>24.000000</td>\n",
              "      <td>24.800000</td>\n",
              "      <td>0.000000</td>\n",
              "    </tr>\n",
              "    <tr>\n",
              "      <th>50%</th>\n",
              "      <td>31.475000</td>\n",
              "      <td>98.300000</td>\n",
              "      <td>1.650000</td>\n",
              "      <td>85.700000</td>\n",
              "      <td>43.000000</td>\n",
              "      <td>28.500000</td>\n",
              "      <td>1.000000</td>\n",
              "    </tr>\n",
              "    <tr>\n",
              "      <th>75%</th>\n",
              "      <td>39.620000</td>\n",
              "      <td>99.000000</td>\n",
              "      <td>1.760000</td>\n",
              "      <td>89.900000</td>\n",
              "      <td>53.000000</td>\n",
              "      <td>29.500000</td>\n",
              "      <td>1.000000</td>\n",
              "    </tr>\n",
              "    <tr>\n",
              "      <th>max</th>\n",
              "      <td>45.600000</td>\n",
              "      <td>99.100000</td>\n",
              "      <td>1.830000</td>\n",
              "      <td>95.600000</td>\n",
              "      <td>67.000000</td>\n",
              "      <td>32.200000</td>\n",
              "      <td>1.000000</td>\n",
              "    </tr>\n",
              "  </tbody>\n",
              "</table>\n",
              "</div>"
            ],
            "text/plain": [
              "          Acetone   Temperature       Height       Weight          Age  \\\n",
              "count  5000.000000  5000.000000  5000.000000  5000.000000  5000.000000   \n",
              "mean     26.624216    98.465840     1.683978    78.135780    39.201000   \n",
              "std      14.040280     0.492984     0.072369    14.145526    14.177729   \n",
              "min       0.500000    97.600000     1.600000    53.300000    23.000000   \n",
              "25%      13.530000    98.000000     1.620000    62.875000    24.000000   \n",
              "50%      31.475000    98.300000     1.650000    85.700000    43.000000   \n",
              "75%      39.620000    99.000000     1.760000    89.900000    53.000000   \n",
              "max      45.600000    99.100000     1.830000    95.600000    67.000000   \n",
              "\n",
              "               BMI      Outcome  \n",
              "count  5000.000000  5000.000000  \n",
              "mean     27.769480     0.504400  \n",
              "std       3.102577     0.500031  \n",
              "min      19.900000     0.000000  \n",
              "25%      24.800000     0.000000  \n",
              "50%      28.500000     1.000000  \n",
              "75%      29.500000     1.000000  \n",
              "max      32.200000     1.000000  "
            ]
          },
          "execution_count": 7,
          "metadata": {},
          "output_type": "execute_result"
        }
      ],
      "source": [
        "#Getting the Statistcal Measures of the dataset\n",
        "diabetes_dataset.describe()"
      ]
    },
    {
      "cell_type": "code",
      "execution_count": 8,
      "metadata": {
        "colab": {
          "base_uri": "https://localhost:8080/"
        },
        "id": "KIlzbxbAZ-hq",
        "outputId": "27547964-5657-4b42-ff46-cf8021368578"
      },
      "outputs": [
        {
          "data": {
            "text/plain": [
              "1    2522\n",
              "0    2478\n",
              "Name: Outcome, dtype: int64"
            ]
          },
          "execution_count": 8,
          "metadata": {},
          "output_type": "execute_result"
        }
      ],
      "source": [
        "diabetes_dataset['Outcome'].value_counts()"
      ]
    },
    {
      "cell_type": "markdown",
      "metadata": {
        "id": "tCTPtBOqb-g6"
      },
      "source": [
        "0--> Non - Diabetic People\n",
        "\n",
        "1--> Diabetic People\n"
      ]
    },
    {
      "cell_type": "code",
      "execution_count": 9,
      "metadata": {
        "colab": {
          "base_uri": "https://localhost:8080/",
          "height": 143
        },
        "id": "sqTBkaxRb6z5",
        "outputId": "ef8a9fdd-01c5-4bcc-fdcc-fe95919da3f6"
      },
      "outputs": [
        {
          "data": {
            "text/html": [
              "<div>\n",
              "<style scoped>\n",
              "    .dataframe tbody tr th:only-of-type {\n",
              "        vertical-align: middle;\n",
              "    }\n",
              "\n",
              "    .dataframe tbody tr th {\n",
              "        vertical-align: top;\n",
              "    }\n",
              "\n",
              "    .dataframe thead th {\n",
              "        text-align: right;\n",
              "    }\n",
              "</style>\n",
              "<table border=\"1\" class=\"dataframe\">\n",
              "  <thead>\n",
              "    <tr style=\"text-align: right;\">\n",
              "      <th></th>\n",
              "      <th>Acetone</th>\n",
              "      <th>Temperature</th>\n",
              "      <th>Height</th>\n",
              "      <th>Weight</th>\n",
              "      <th>Age</th>\n",
              "      <th>BMI</th>\n",
              "    </tr>\n",
              "    <tr>\n",
              "      <th>Outcome</th>\n",
              "      <th></th>\n",
              "      <th></th>\n",
              "      <th></th>\n",
              "      <th></th>\n",
              "      <th></th>\n",
              "      <th></th>\n",
              "    </tr>\n",
              "  </thead>\n",
              "  <tbody>\n",
              "    <tr>\n",
              "      <th>0</th>\n",
              "      <td>13.631759</td>\n",
              "      <td>98.018362</td>\n",
              "      <td>1.644310</td>\n",
              "      <td>66.671469</td>\n",
              "      <td>25.424132</td>\n",
              "      <td>26.134988</td>\n",
              "    </tr>\n",
              "    <tr>\n",
              "      <th>1</th>\n",
              "      <td>39.390000</td>\n",
              "      <td>98.905511</td>\n",
              "      <td>1.722954</td>\n",
              "      <td>89.400079</td>\n",
              "      <td>52.737510</td>\n",
              "      <td>29.375456</td>\n",
              "    </tr>\n",
              "  </tbody>\n",
              "</table>\n",
              "</div>"
            ],
            "text/plain": [
              "          Acetone   Temperature    Height     Weight        Age        BMI\n",
              "Outcome                                                                   \n",
              "0        13.631759    98.018362  1.644310  66.671469  25.424132  26.134988\n",
              "1        39.390000    98.905511  1.722954  89.400079  52.737510  29.375456"
            ]
          },
          "execution_count": 9,
          "metadata": {},
          "output_type": "execute_result"
        }
      ],
      "source": [
        "diabetes_dataset.groupby('Outcome').mean()"
      ]
    },
    {
      "cell_type": "code",
      "execution_count": 10,
      "metadata": {
        "id": "xCy1l4pRciua"
      },
      "outputs": [],
      "source": [
        "#Separating data and labels\n",
        "X=diabetes_dataset.drop(columns='Outcome',axis=1)\n",
        "Y=diabetes_dataset['Outcome']"
      ]
    },
    {
      "cell_type": "code",
      "execution_count": 11,
      "metadata": {
        "colab": {
          "base_uri": "https://localhost:8080/"
        },
        "id": "NMhEW3-VeZih",
        "outputId": "c8d06d1d-c69e-4678-d761-641b953efba3"
      },
      "outputs": [
        {
          "name": "stdout",
          "output_type": "stream",
          "text": [
            "      Acetone   Temperature  Height  Weight  Age   BMI\n",
            "0        16.87         97.8    1.64    55.1   24  22.4\n",
            "1        13.95         98.1    1.74    69.1   26  28.5\n",
            "2        31.54         98.8    1.74    88.6   52  30.1\n",
            "3        20.81         97.8    1.60    64.0   23  22.9\n",
            "4        13.02         98.2    1.60    60.8   24  24.2\n",
            "...        ...          ...     ...     ...  ...   ...\n",
            "4995     13.32         98.1    1.60    67.6   25  28.9\n",
            "4996     36.26         99.0    1.69    95.6   47  29.0\n",
            "4997     37.69         99.0    1.68    91.0   53  29.3\n",
            "4998     21.59         98.2    1.65    85.6   26  29.2\n",
            "4999      5.06         97.9    1.73    66.1   24  27.9\n",
            "\n",
            "[5000 rows x 6 columns]\n"
          ]
        }
      ],
      "source": [
        "print(X)"
      ]
    },
    {
      "cell_type": "code",
      "execution_count": 12,
      "metadata": {
        "colab": {
          "base_uri": "https://localhost:8080/"
        },
        "id": "gm9aa4JOebrI",
        "outputId": "6bfc491d-b6cf-4f79-9076-bbdbc12ff7ac"
      },
      "outputs": [
        {
          "name": "stdout",
          "output_type": "stream",
          "text": [
            "0       0\n",
            "1       0\n",
            "2       1\n",
            "3       0\n",
            "4       0\n",
            "       ..\n",
            "4995    0\n",
            "4996    1\n",
            "4997    1\n",
            "4998    0\n",
            "4999    0\n",
            "Name: Outcome, Length: 5000, dtype: int64\n"
          ]
        }
      ],
      "source": [
        "print(Y)"
      ]
    },
    {
      "cell_type": "markdown",
      "metadata": {
        "id": "I9Lc3KfKewU5"
      },
      "source": [
        "DATA STANDARDIZATION"
      ]
    },
    {
      "cell_type": "code",
      "execution_count": 13,
      "metadata": {
        "id": "fd1nM7tdefTf"
      },
      "outputs": [],
      "source": [
        "scaler=StandardScaler()"
      ]
    },
    {
      "cell_type": "code",
      "execution_count": 14,
      "metadata": {
        "colab": {
          "base_uri": "https://localhost:8080/"
        },
        "id": "xRxNSTVKxMB3",
        "outputId": "8ee6c418-9de9-413c-9912-bab9f30e3d28"
      },
      "outputs": [
        {
          "data": {
            "text/html": [
              "<style>#sk-container-id-1 {color: black;background-color: white;}#sk-container-id-1 pre{padding: 0;}#sk-container-id-1 div.sk-toggleable {background-color: white;}#sk-container-id-1 label.sk-toggleable__label {cursor: pointer;display: block;width: 100%;margin-bottom: 0;padding: 0.3em;box-sizing: border-box;text-align: center;}#sk-container-id-1 label.sk-toggleable__label-arrow:before {content: \"▸\";float: left;margin-right: 0.25em;color: #696969;}#sk-container-id-1 label.sk-toggleable__label-arrow:hover:before {color: black;}#sk-container-id-1 div.sk-estimator:hover label.sk-toggleable__label-arrow:before {color: black;}#sk-container-id-1 div.sk-toggleable__content {max-height: 0;max-width: 0;overflow: hidden;text-align: left;background-color: #f0f8ff;}#sk-container-id-1 div.sk-toggleable__content pre {margin: 0.2em;color: black;border-radius: 0.25em;background-color: #f0f8ff;}#sk-container-id-1 input.sk-toggleable__control:checked~div.sk-toggleable__content {max-height: 200px;max-width: 100%;overflow: auto;}#sk-container-id-1 input.sk-toggleable__control:checked~label.sk-toggleable__label-arrow:before {content: \"▾\";}#sk-container-id-1 div.sk-estimator input.sk-toggleable__control:checked~label.sk-toggleable__label {background-color: #d4ebff;}#sk-container-id-1 div.sk-label input.sk-toggleable__control:checked~label.sk-toggleable__label {background-color: #d4ebff;}#sk-container-id-1 input.sk-hidden--visually {border: 0;clip: rect(1px 1px 1px 1px);clip: rect(1px, 1px, 1px, 1px);height: 1px;margin: -1px;overflow: hidden;padding: 0;position: absolute;width: 1px;}#sk-container-id-1 div.sk-estimator {font-family: monospace;background-color: #f0f8ff;border: 1px dotted black;border-radius: 0.25em;box-sizing: border-box;margin-bottom: 0.5em;}#sk-container-id-1 div.sk-estimator:hover {background-color: #d4ebff;}#sk-container-id-1 div.sk-parallel-item::after {content: \"\";width: 100%;border-bottom: 1px solid gray;flex-grow: 1;}#sk-container-id-1 div.sk-label:hover label.sk-toggleable__label {background-color: #d4ebff;}#sk-container-id-1 div.sk-serial::before {content: \"\";position: absolute;border-left: 1px solid gray;box-sizing: border-box;top: 0;bottom: 0;left: 50%;z-index: 0;}#sk-container-id-1 div.sk-serial {display: flex;flex-direction: column;align-items: center;background-color: white;padding-right: 0.2em;padding-left: 0.2em;position: relative;}#sk-container-id-1 div.sk-item {position: relative;z-index: 1;}#sk-container-id-1 div.sk-parallel {display: flex;align-items: stretch;justify-content: center;background-color: white;position: relative;}#sk-container-id-1 div.sk-item::before, #sk-container-id-1 div.sk-parallel-item::before {content: \"\";position: absolute;border-left: 1px solid gray;box-sizing: border-box;top: 0;bottom: 0;left: 50%;z-index: -1;}#sk-container-id-1 div.sk-parallel-item {display: flex;flex-direction: column;z-index: 1;position: relative;background-color: white;}#sk-container-id-1 div.sk-parallel-item:first-child::after {align-self: flex-end;width: 50%;}#sk-container-id-1 div.sk-parallel-item:last-child::after {align-self: flex-start;width: 50%;}#sk-container-id-1 div.sk-parallel-item:only-child::after {width: 0;}#sk-container-id-1 div.sk-dashed-wrapped {border: 1px dashed gray;margin: 0 0.4em 0.5em 0.4em;box-sizing: border-box;padding-bottom: 0.4em;background-color: white;}#sk-container-id-1 div.sk-label label {font-family: monospace;font-weight: bold;display: inline-block;line-height: 1.2em;}#sk-container-id-1 div.sk-label-container {text-align: center;}#sk-container-id-1 div.sk-container {/* jupyter's `normalize.less` sets `[hidden] { display: none; }` but bootstrap.min.css set `[hidden] { display: none !important; }` so we also need the `!important` here to be able to override the default hidden behavior on the sphinx rendered scikit-learn.org. See: https://github.com/scikit-learn/scikit-learn/issues/21755 */display: inline-block !important;position: relative;}#sk-container-id-1 div.sk-text-repr-fallback {display: none;}</style><div id=\"sk-container-id-1\" class=\"sk-top-container\"><div class=\"sk-text-repr-fallback\"><pre>StandardScaler()</pre><b>In a Jupyter environment, please rerun this cell to show the HTML representation or trust the notebook. <br />On GitHub, the HTML representation is unable to render, please try loading this page with nbviewer.org.</b></div><div class=\"sk-container\" hidden><div class=\"sk-item\"><div class=\"sk-estimator sk-toggleable\"><input class=\"sk-toggleable__control sk-hidden--visually\" id=\"sk-estimator-id-1\" type=\"checkbox\" checked><label for=\"sk-estimator-id-1\" class=\"sk-toggleable__label sk-toggleable__label-arrow\">StandardScaler</label><div class=\"sk-toggleable__content\"><pre>StandardScaler()</pre></div></div></div></div></div>"
            ],
            "text/plain": [
              "StandardScaler()"
            ]
          },
          "execution_count": 14,
          "metadata": {},
          "output_type": "execute_result"
        }
      ],
      "source": [
        "scaler.fit(X)"
      ]
    },
    {
      "cell_type": "code",
      "execution_count": 15,
      "metadata": {
        "id": "EjbcT-ydySev"
      },
      "outputs": [],
      "source": [
        "standarized_data=scaler.transform(X)"
      ]
    },
    {
      "cell_type": "code",
      "execution_count": 16,
      "metadata": {
        "colab": {
          "base_uri": "https://localhost:8080/"
        },
        "id": "KlI4RqhIxZac",
        "outputId": "d52ca74b-896a-4b14-8102-b3011ec06f9e"
      },
      "outputs": [
        {
          "name": "stdout",
          "output_type": "stream",
          "text": [
            "[[-0.69480037 -1.35076583 -0.60775593 -1.62864805 -1.07228177 -1.73082495]\n",
            " [-0.90279423 -0.74216654  0.77419853 -0.63883686 -0.93120134  0.23547946]\n",
            " [ 0.35015511  0.67789846  0.77419853  0.73982871  0.90284418  0.75123143]\n",
            " ...\n",
            " [ 0.78822437  1.08363131 -0.05497415  0.90951063  0.97338439  0.49335545]\n",
            " [-0.35859111 -0.53930011 -0.46956049  0.52772632 -0.93120134  0.46112095]\n",
            " [-1.53603583 -1.1478994   0.63600308 -0.85093926 -1.07228177  0.04207247]]\n"
          ]
        }
      ],
      "source": [
        "print(standarized_data)"
      ]
    },
    {
      "cell_type": "code",
      "execution_count": 17,
      "metadata": {
        "id": "1-7TbyhYyc5D"
      },
      "outputs": [],
      "source": [
        "X=standarized_data\n",
        "Y=diabetes_dataset['Outcome']"
      ]
    },
    {
      "cell_type": "code",
      "execution_count": 18,
      "metadata": {
        "colab": {
          "base_uri": "https://localhost:8080/"
        },
        "id": "8i2U1bHEyucm",
        "outputId": "4f092f2a-ecec-48f1-89b9-aae1901499cb"
      },
      "outputs": [
        {
          "name": "stdout",
          "output_type": "stream",
          "text": [
            "[[-0.69480037 -1.35076583 -0.60775593 -1.62864805 -1.07228177 -1.73082495]\n",
            " [-0.90279423 -0.74216654  0.77419853 -0.63883686 -0.93120134  0.23547946]\n",
            " [ 0.35015511  0.67789846  0.77419853  0.73982871  0.90284418  0.75123143]\n",
            " ...\n",
            " [ 0.78822437  1.08363131 -0.05497415  0.90951063  0.97338439  0.49335545]\n",
            " [-0.35859111 -0.53930011 -0.46956049  0.52772632 -0.93120134  0.46112095]\n",
            " [-1.53603583 -1.1478994   0.63600308 -0.85093926 -1.07228177  0.04207247]]\n",
            "0       0\n",
            "1       0\n",
            "2       1\n",
            "3       0\n",
            "4       0\n",
            "       ..\n",
            "4995    0\n",
            "4996    1\n",
            "4997    1\n",
            "4998    0\n",
            "4999    0\n",
            "Name: Outcome, Length: 5000, dtype: int64\n"
          ]
        }
      ],
      "source": [
        " print(X)\n",
        " print(Y)"
      ]
    },
    {
      "cell_type": "markdown",
      "metadata": {
        "id": "fPAPHUfDZLzN"
      },
      "source": [
        "Splitting the data\n"
      ]
    },
    {
      "cell_type": "code",
      "execution_count": 19,
      "metadata": {
        "id": "r4OYDcUvzg9Q"
      },
      "outputs": [],
      "source": [
        "X_train,X_test,Y_train,Y_test=train_test_split(X,Y , test_size=0.2,stratify=Y,random_state=2)"
      ]
    },
    {
      "cell_type": "code",
      "execution_count": 20,
      "metadata": {
        "colab": {
          "base_uri": "https://localhost:8080/"
        },
        "id": "CJko9xyy3KUY",
        "outputId": "4ec9b57c-e238-40ac-ba3b-7e955143fed8"
      },
      "outputs": [
        {
          "name": "stdout",
          "output_type": "stream",
          "text": [
            "(5000, 6) (4000, 6) (1000, 6)\n"
          ]
        }
      ],
      "source": [
        "print(X.shape,X_train.shape,X_test.shape)"
      ]
    },
    {
      "cell_type": "markdown",
      "metadata": {
        "id": "unIa7UonfEnr"
      },
      "source": [
        "Training the model\n"
      ]
    },
    {
      "cell_type": "code",
      "execution_count": 21,
      "metadata": {
        "id": "oooPStXD3SiB"
      },
      "outputs": [],
      "source": [
        "classifier = SVM_classifier(learning_rate=0.001, no_of_iterations=1000, lambda_parameter = 0.01)"
      ]
    },
    {
      "cell_type": "code",
      "execution_count": 22,
      "metadata": {
        "id": "sqB0jRZjfpKo"
      },
      "outputs": [],
      "source": [
        "#Training the Support Vector Machine Classifier\n",
        "classifier.fit(X_train,Y_train)"
      ]
    },
    {
      "cell_type": "markdown",
      "metadata": {
        "id": "iO2QJTu_hMz3"
      },
      "source": [
        "Model Evaluation\n"
      ]
    },
    {
      "cell_type": "markdown",
      "metadata": {
        "id": "5_6_41HMieq3"
      },
      "source": [
        "Accuracy Score\n"
      ]
    },
    {
      "cell_type": "code",
      "execution_count": 23,
      "metadata": {
        "id": "F3vbTda9gJ9P"
      },
      "outputs": [],
      "source": [
        "#accuracy score on the training data\n",
        "X_train_prediction = classifier.predict(X_train)\n",
        "training_data_accuracy = accuracy_score(X_train_prediction,Y_train)"
      ]
    },
    {
      "cell_type": "code",
      "execution_count": 24,
      "metadata": {
        "colab": {
          "base_uri": "https://localhost:8080/"
        },
        "id": "l03X6v50kX3J",
        "outputId": "d168ed0e-15a4-4684-83ed-013dfc27e685"
      },
      "outputs": [
        {
          "name": "stdout",
          "output_type": "stream",
          "text": [
            "Accuracy Score of the training data =  99.88 %\n"
          ]
        }
      ],
      "source": [
        "print('Accuracy Score of the training data = ',round(training_data_accuracy*100, 2) ,\"%\")"
      ]
    },
    {
      "cell_type": "code",
      "execution_count": 25,
      "metadata": {
        "id": "xoMbu79Tkq3z"
      },
      "outputs": [],
      "source": [
        "#accuracy score on the test data\n",
        "X_test_prediction=classifier.predict(X_test)\n",
        "X_test_accuracy=accuracy_score(X_test_prediction,Y_test)\n"
      ]
    },
    {
      "cell_type": "code",
      "execution_count": 26,
      "metadata": {
        "colab": {
          "base_uri": "https://localhost:8080/"
        },
        "id": "11wh0Sw6mNnj",
        "outputId": "56755ee4-a9df-475b-85b2-83fcba7e320a"
      },
      "outputs": [
        {
          "name": "stdout",
          "output_type": "stream",
          "text": [
            "Accuracy Score of the test data =  99.9 %\n"
          ]
        }
      ],
      "source": [
        "print('Accuracy Score of the test data = ', round(X_test_accuracy*100, 2) ,\"%\")"
      ]
    },
    {
      "cell_type": "markdown",
      "metadata": {
        "id": "Wz87rgv0IFxG"
      },
      "source": [
        "Confusion Matrix"
      ]
    },
    {
      "cell_type": "code",
      "execution_count": 27,
      "metadata": {
        "id": "01pX8IASIIWo"
      },
      "outputs": [],
      "source": [
        "cf_matrix = confusion_matrix(Y_test,X_test_prediction)\n"
      ]
    },
    {
      "cell_type": "code",
      "execution_count": 28,
      "metadata": {
        "id": "MeZJtk8DIaw8"
      },
      "outputs": [],
      "source": [
        "import seaborn as sns"
      ]
    },
    {
      "cell_type": "code",
      "execution_count": 29,
      "metadata": {
        "colab": {
          "base_uri": "https://localhost:8080/"
        },
        "id": "LSGIvDKgIdSA",
        "outputId": "f11ce088-642f-4613-c6d0-08668282ea29"
      },
      "outputs": [
        {
          "data": {
            "text/plain": [
              "<AxesSubplot: >"
            ]
          },
          "execution_count": 29,
          "metadata": {},
          "output_type": "execute_result"
        },
        {
          "data": {
            "image/png": "[encoded data removed]",
            "text/plain": [
              "<Figure size 640x480 with 2 Axes>"
            ]
          },
          "metadata": {},
          "output_type": "display_data"
        }
      ],
      "source": [
        "sns.heatmap(cf_matrix,annot=True,cmap='Purples')"
      ]
    },
    {
      "cell_type": "markdown",
      "metadata": {
        "id": "KjP8ewul0Gm2"
      },
      "source": [
        "INPUT \n",
        "\n",
        "AND\n",
        "\n",
        "FINAL RESULT"
      ]
    },
    {
      "cell_type": "code",
      "execution_count": 30,
      "metadata": {
        "colab": {
          "base_uri": "https://localhost:8080/"
        },
        "id": "ksPEfmJlmVwj",
        "outputId": "a1ded20a-9dd9-4f4a-ebfe-6990bb9dcf78"
      },
      "outputs": [
        {
          "name": "stdout",
          "output_type": "stream",
          "text": [
            "[[-0.69480037 -1.35076583 -0.60775593 -1.62864805 -1.07228177 -1.73082495]]\n",
            "[0]\n",
            "The person is not affected with diabetes\n"
          ]
        },
        {
          "name": "stderr",
          "output_type": "stream",
          "text": [
            "c:\\Users\\user\\AppData\\Local\\Programs\\Python\\Python311\\Lib\\site-packages\\sklearn\\base.py:420: UserWarning: X does not have valid feature names, but StandardScaler was fitted with feature names\n",
            "  warnings.warn(\n"
          ]
        }
      ],
      "source": [
        "\n",
        "input_data=(16.87,97.8,1.64,55.1,24,22.4)\n",
        "\n",
        "#Changing the input_data to numpy array\n",
        "input_data_as_numpy_array=np.asarray(input_data)\n",
        "\n",
        "#reshape the array as we are predicting for one instance\n",
        "input_data_reshaped=input_data_as_numpy_array.reshape(1,-1)\n",
        "\n",
        "#standardize the input data\n",
        "std_data=scaler.transform(input_data_reshaped)\n",
        "print(std_data)\n",
        "\n",
        "prediction=classifier.predict(std_data)\n",
        "print(prediction)\n",
        "\n",
        "if(prediction[0] == 0):\n",
        "  print('The person is not affected with diabetes') \n",
        "else:\n",
        "    print('The person is affected with diabetes')\n"
      ]
    }
  ],
  "metadata": {
    "colab": {
      "provenance": []
    },
    "kernelspec": {
      "display_name": "Python 3",
      "language": "python",
      "name": "python3"
    },
    "language_info": {
      "codemirror_mode": {
        "name": "ipython",
        "version": 3
      },
      "file_extension": ".py",
      "mimetype": "text/x-python",
      "name": "python",
      "nbconvert_exporter": "python",
      "pygments_lexer": "ipython3",
      "version": "3.11.1"
    },
    "vscode": {
      "interpreter": {
        "hash": "de47f5c92c0ee6f12a59a5613ac5feff6aab19ddff207ba0b3964cced08c4ccc"
      }
    }
  },
  "nbformat": 4,
  "nbformat_minor": 0
}
